{
  "nbformat": 4,
  "nbformat_minor": 0,
  "metadata": {
    "colab": {
      "name": "TensorFlow.ipynb",
      "provenance": [],
      "collapsed_sections": [
        "WBk0ZDWY-ff8"
      ],
      "include_colab_link": true
    },
    "kernelspec": {
      "name": "python3",
      "display_name": "Python 3"
    },
    "accelerator": "GPU"
  },
  "cells": [
    {
      "cell_type": "markdown",
      "metadata": {
        "id": "view-in-github",
        "colab_type": "text"
      },
      "source": [
        "<a href=\"https://colab.research.google.com/github/joanarepinaldo/mit-deep-learning/blob/main/Lab1/TensorFlow.ipynb\" target=\"_parent\"><img src=\"https://colab.research.google.com/assets/colab-badge.svg\" alt=\"Open In Colab\"/></a>"
      ]
    },
    {
      "cell_type": "markdown",
      "metadata": {
        "id": "WBk0ZDWY-ff8"
      },
      "source": [
        "<table align=\"center\">\n",
        "  <td align=\"center\"><a target=\"_blank\" href=\"http://introtodeeplearning.com\">\n",
        "        <img src=\"https://i.ibb.co/Jr88sn2/mit.png\" style=\"padding-bottom:5px;\" />\n",
        "      Visit MIT Deep Learning</a></td>\n",
        " \n",
        "  <td align=\"center\"><a target=\"_blank\"  href=\"https://www.linkedin.com/in/joana-pereira-repinaldo-3368b7116/\">\n",
        "        <img width=\"30%\" src=\"https://raw.githubusercontent.com/joanarepinaldo/arquivos/main/logo1.png\"  height=\"70px\" style=\"padding-bottom:5px;\"  /></a></td>\n",
        "</table>\n",
        "\n",
        "\n",
        "# Copyright Information\n",
        "\n",
        "\n"
      ]
    },
    {
      "cell_type": "markdown",
      "metadata": {
        "id": "57knM8jrYZ2t"
      },
      "source": [
        "# Lab 1: a) Intro to TensorFlow \n",
        "\n",
        "**[TensorFlow](https://https://www.tensorflow.org/?hl=pt-br)** é uma biblioteca de código aberto para desenvolvimento de ML. Com este é possível desenvolver sistemas capazes de identificar padrões em grandes volumes de dados. Neste projeto será apresentado uma rede neural simples utilizando esta biblioteca."
      ]
    },
    {
      "cell_type": "markdown",
      "source": [
        "## Configurando o ambiente de trabalho\n",
        "\n",
        "Utilizamos no desenvolvimento as bibliotecas TensorFlow, Matplotlib e Numpy. Também foi instalada a biblioteca do curso do MIT -> mitdeeplearning."
      ],
      "metadata": {
        "id": "U_9mBsSolAhR"
      }
    },
    {
      "cell_type": "code",
      "metadata": {
        "id": "LkaimNJfYZ2w",
        "colab": {
          "base_uri": "https://localhost:8080/"
        },
        "outputId": "4d01e2aa-107c-4c57-f6ed-070d1c76abd1"
      },
      "source": [
        "import tensorflow as tf\n",
        "\n",
        "# Download and import the MIT 6.S191 package\n",
        "!pip install mitdeeplearning\n",
        "import mitdeeplearning as mdl\n",
        "\n",
        "import numpy as np\n",
        "import matplotlib.pyplot as plt"
      ],
      "execution_count": null,
      "outputs": [
        {
          "output_type": "stream",
          "name": "stdout",
          "text": [
            "Collecting mitdeeplearning\n",
            "  Downloading mitdeeplearning-0.2.0.tar.gz (2.1 MB)\n",
            "\u001b[?25l\r\u001b[K     |▏                               | 10 kB 19.6 MB/s eta 0:00:01\r\u001b[K     |▎                               | 20 kB 24.0 MB/s eta 0:00:01\r\u001b[K     |▌                               | 30 kB 17.4 MB/s eta 0:00:01\r\u001b[K     |▋                               | 40 kB 15.2 MB/s eta 0:00:01\r\u001b[K     |▉                               | 51 kB 8.4 MB/s eta 0:00:01\r\u001b[K     |█                               | 61 kB 9.7 MB/s eta 0:00:01\r\u001b[K     |█                               | 71 kB 8.4 MB/s eta 0:00:01\r\u001b[K     |█▎                              | 81 kB 9.3 MB/s eta 0:00:01\r\u001b[K     |█▍                              | 92 kB 10.1 MB/s eta 0:00:01\r\u001b[K     |█▋                              | 102 kB 8.2 MB/s eta 0:00:01\r\u001b[K     |█▊                              | 112 kB 8.2 MB/s eta 0:00:01\r\u001b[K     |█▉                              | 122 kB 8.2 MB/s eta 0:00:01\r\u001b[K     |██                              | 133 kB 8.2 MB/s eta 0:00:01\r\u001b[K     |██▏                             | 143 kB 8.2 MB/s eta 0:00:01\r\u001b[K     |██▍                             | 153 kB 8.2 MB/s eta 0:00:01\r\u001b[K     |██▌                             | 163 kB 8.2 MB/s eta 0:00:01\r\u001b[K     |██▋                             | 174 kB 8.2 MB/s eta 0:00:01\r\u001b[K     |██▉                             | 184 kB 8.2 MB/s eta 0:00:01\r\u001b[K     |███                             | 194 kB 8.2 MB/s eta 0:00:01\r\u001b[K     |███▏                            | 204 kB 8.2 MB/s eta 0:00:01\r\u001b[K     |███▎                            | 215 kB 8.2 MB/s eta 0:00:01\r\u001b[K     |███▌                            | 225 kB 8.2 MB/s eta 0:00:01\r\u001b[K     |███▋                            | 235 kB 8.2 MB/s eta 0:00:01\r\u001b[K     |███▊                            | 245 kB 8.2 MB/s eta 0:00:01\r\u001b[K     |████                            | 256 kB 8.2 MB/s eta 0:00:01\r\u001b[K     |████                            | 266 kB 8.2 MB/s eta 0:00:01\r\u001b[K     |████▎                           | 276 kB 8.2 MB/s eta 0:00:01\r\u001b[K     |████▍                           | 286 kB 8.2 MB/s eta 0:00:01\r\u001b[K     |████▌                           | 296 kB 8.2 MB/s eta 0:00:01\r\u001b[K     |████▊                           | 307 kB 8.2 MB/s eta 0:00:01\r\u001b[K     |████▉                           | 317 kB 8.2 MB/s eta 0:00:01\r\u001b[K     |█████                           | 327 kB 8.2 MB/s eta 0:00:01\r\u001b[K     |█████▏                          | 337 kB 8.2 MB/s eta 0:00:01\r\u001b[K     |█████▎                          | 348 kB 8.2 MB/s eta 0:00:01\r\u001b[K     |█████▌                          | 358 kB 8.2 MB/s eta 0:00:01\r\u001b[K     |█████▋                          | 368 kB 8.2 MB/s eta 0:00:01\r\u001b[K     |█████▉                          | 378 kB 8.2 MB/s eta 0:00:01\r\u001b[K     |██████                          | 389 kB 8.2 MB/s eta 0:00:01\r\u001b[K     |██████▏                         | 399 kB 8.2 MB/s eta 0:00:01\r\u001b[K     |██████▎                         | 409 kB 8.2 MB/s eta 0:00:01\r\u001b[K     |██████▍                         | 419 kB 8.2 MB/s eta 0:00:01\r\u001b[K     |██████▋                         | 430 kB 8.2 MB/s eta 0:00:01\r\u001b[K     |██████▊                         | 440 kB 8.2 MB/s eta 0:00:01\r\u001b[K     |███████                         | 450 kB 8.2 MB/s eta 0:00:01\r\u001b[K     |███████                         | 460 kB 8.2 MB/s eta 0:00:01\r\u001b[K     |███████▏                        | 471 kB 8.2 MB/s eta 0:00:01\r\u001b[K     |███████▍                        | 481 kB 8.2 MB/s eta 0:00:01\r\u001b[K     |███████▌                        | 491 kB 8.2 MB/s eta 0:00:01\r\u001b[K     |███████▊                        | 501 kB 8.2 MB/s eta 0:00:01\r\u001b[K     |███████▉                        | 512 kB 8.2 MB/s eta 0:00:01\r\u001b[K     |████████                        | 522 kB 8.2 MB/s eta 0:00:01\r\u001b[K     |████████▏                       | 532 kB 8.2 MB/s eta 0:00:01\r\u001b[K     |████████▎                       | 542 kB 8.2 MB/s eta 0:00:01\r\u001b[K     |████████▌                       | 552 kB 8.2 MB/s eta 0:00:01\r\u001b[K     |████████▋                       | 563 kB 8.2 MB/s eta 0:00:01\r\u001b[K     |████████▉                       | 573 kB 8.2 MB/s eta 0:00:01\r\u001b[K     |█████████                       | 583 kB 8.2 MB/s eta 0:00:01\r\u001b[K     |█████████                       | 593 kB 8.2 MB/s eta 0:00:01\r\u001b[K     |█████████▎                      | 604 kB 8.2 MB/s eta 0:00:01\r\u001b[K     |█████████▍                      | 614 kB 8.2 MB/s eta 0:00:01\r\u001b[K     |█████████▋                      | 624 kB 8.2 MB/s eta 0:00:01\r\u001b[K     |█████████▊                      | 634 kB 8.2 MB/s eta 0:00:01\r\u001b[K     |█████████▉                      | 645 kB 8.2 MB/s eta 0:00:01\r\u001b[K     |██████████                      | 655 kB 8.2 MB/s eta 0:00:01\r\u001b[K     |██████████▏                     | 665 kB 8.2 MB/s eta 0:00:01\r\u001b[K     |██████████▍                     | 675 kB 8.2 MB/s eta 0:00:01\r\u001b[K     |██████████▌                     | 686 kB 8.2 MB/s eta 0:00:01\r\u001b[K     |██████████▋                     | 696 kB 8.2 MB/s eta 0:00:01\r\u001b[K     |██████████▉                     | 706 kB 8.2 MB/s eta 0:00:01\r\u001b[K     |███████████                     | 716 kB 8.2 MB/s eta 0:00:01\r\u001b[K     |███████████▏                    | 727 kB 8.2 MB/s eta 0:00:01\r\u001b[K     |███████████▎                    | 737 kB 8.2 MB/s eta 0:00:01\r\u001b[K     |███████████▍                    | 747 kB 8.2 MB/s eta 0:00:01\r\u001b[K     |███████████▋                    | 757 kB 8.2 MB/s eta 0:00:01\r\u001b[K     |███████████▊                    | 768 kB 8.2 MB/s eta 0:00:01\r\u001b[K     |████████████                    | 778 kB 8.2 MB/s eta 0:00:01\r\u001b[K     |████████████                    | 788 kB 8.2 MB/s eta 0:00:01\r\u001b[K     |████████████▎                   | 798 kB 8.2 MB/s eta 0:00:01\r\u001b[K     |████████████▍                   | 808 kB 8.2 MB/s eta 0:00:01\r\u001b[K     |████████████▌                   | 819 kB 8.2 MB/s eta 0:00:01\r\u001b[K     |████████████▊                   | 829 kB 8.2 MB/s eta 0:00:01\r\u001b[K     |████████████▉                   | 839 kB 8.2 MB/s eta 0:00:01\r\u001b[K     |█████████████                   | 849 kB 8.2 MB/s eta 0:00:01\r\u001b[K     |█████████████▏                  | 860 kB 8.2 MB/s eta 0:00:01\r\u001b[K     |█████████████▎                  | 870 kB 8.2 MB/s eta 0:00:01\r\u001b[K     |█████████████▌                  | 880 kB 8.2 MB/s eta 0:00:01\r\u001b[K     |█████████████▋                  | 890 kB 8.2 MB/s eta 0:00:01\r\u001b[K     |█████████████▉                  | 901 kB 8.2 MB/s eta 0:00:01\r\u001b[K     |██████████████                  | 911 kB 8.2 MB/s eta 0:00:01\r\u001b[K     |██████████████                  | 921 kB 8.2 MB/s eta 0:00:01\r\u001b[K     |██████████████▎                 | 931 kB 8.2 MB/s eta 0:00:01\r\u001b[K     |██████████████▍                 | 942 kB 8.2 MB/s eta 0:00:01\r\u001b[K     |██████████████▋                 | 952 kB 8.2 MB/s eta 0:00:01\r\u001b[K     |██████████████▊                 | 962 kB 8.2 MB/s eta 0:00:01\r\u001b[K     |███████████████                 | 972 kB 8.2 MB/s eta 0:00:01\r\u001b[K     |███████████████                 | 983 kB 8.2 MB/s eta 0:00:01\r\u001b[K     |███████████████▏                | 993 kB 8.2 MB/s eta 0:00:01\r\u001b[K     |███████████████▍                | 1.0 MB 8.2 MB/s eta 0:00:01\r\u001b[K     |███████████████▌                | 1.0 MB 8.2 MB/s eta 0:00:01\r\u001b[K     |███████████████▊                | 1.0 MB 8.2 MB/s eta 0:00:01\r\u001b[K     |███████████████▉                | 1.0 MB 8.2 MB/s eta 0:00:01\r\u001b[K     |████████████████                | 1.0 MB 8.2 MB/s eta 0:00:01\r\u001b[K     |████████████████▏               | 1.1 MB 8.2 MB/s eta 0:00:01\r\u001b[K     |████████████████▎               | 1.1 MB 8.2 MB/s eta 0:00:01\r\u001b[K     |████████████████▌               | 1.1 MB 8.2 MB/s eta 0:00:01\r\u001b[K     |████████████████▋               | 1.1 MB 8.2 MB/s eta 0:00:01\r\u001b[K     |████████████████▊               | 1.1 MB 8.2 MB/s eta 0:00:01\r\u001b[K     |█████████████████               | 1.1 MB 8.2 MB/s eta 0:00:01\r\u001b[K     |█████████████████               | 1.1 MB 8.2 MB/s eta 0:00:01\r\u001b[K     |█████████████████▎              | 1.1 MB 8.2 MB/s eta 0:00:01\r\u001b[K     |█████████████████▍              | 1.1 MB 8.2 MB/s eta 0:00:01\r\u001b[K     |█████████████████▋              | 1.1 MB 8.2 MB/s eta 0:00:01\r\u001b[K     |█████████████████▊              | 1.2 MB 8.2 MB/s eta 0:00:01\r\u001b[K     |█████████████████▉              | 1.2 MB 8.2 MB/s eta 0:00:01\r\u001b[K     |██████████████████              | 1.2 MB 8.2 MB/s eta 0:00:01\r\u001b[K     |██████████████████▏             | 1.2 MB 8.2 MB/s eta 0:00:01\r\u001b[K     |██████████████████▍             | 1.2 MB 8.2 MB/s eta 0:00:01\r\u001b[K     |██████████████████▌             | 1.2 MB 8.2 MB/s eta 0:00:01\r\u001b[K     |██████████████████▋             | 1.2 MB 8.2 MB/s eta 0:00:01\r\u001b[K     |██████████████████▉             | 1.2 MB 8.2 MB/s eta 0:00:01\r\u001b[K     |███████████████████             | 1.2 MB 8.2 MB/s eta 0:00:01\r\u001b[K     |███████████████████▏            | 1.2 MB 8.2 MB/s eta 0:00:01\r\u001b[K     |███████████████████▎            | 1.3 MB 8.2 MB/s eta 0:00:01\r\u001b[K     |███████████████████▍            | 1.3 MB 8.2 MB/s eta 0:00:01\r\u001b[K     |███████████████████▋            | 1.3 MB 8.2 MB/s eta 0:00:01\r\u001b[K     |███████████████████▊            | 1.3 MB 8.2 MB/s eta 0:00:01\r\u001b[K     |████████████████████            | 1.3 MB 8.2 MB/s eta 0:00:01\r\u001b[K     |████████████████████            | 1.3 MB 8.2 MB/s eta 0:00:01\r\u001b[K     |████████████████████▎           | 1.3 MB 8.2 MB/s eta 0:00:01\r\u001b[K     |████████████████████▍           | 1.3 MB 8.2 MB/s eta 0:00:01\r\u001b[K     |████████████████████▌           | 1.3 MB 8.2 MB/s eta 0:00:01\r\u001b[K     |████████████████████▊           | 1.4 MB 8.2 MB/s eta 0:00:01\r\u001b[K     |████████████████████▉           | 1.4 MB 8.2 MB/s eta 0:00:01\r\u001b[K     |█████████████████████           | 1.4 MB 8.2 MB/s eta 0:00:01\r\u001b[K     |█████████████████████▏          | 1.4 MB 8.2 MB/s eta 0:00:01\r\u001b[K     |█████████████████████▎          | 1.4 MB 8.2 MB/s eta 0:00:01\r\u001b[K     |█████████████████████▌          | 1.4 MB 8.2 MB/s eta 0:00:01\r\u001b[K     |█████████████████████▋          | 1.4 MB 8.2 MB/s eta 0:00:01\r\u001b[K     |█████████████████████▉          | 1.4 MB 8.2 MB/s eta 0:00:01\r\u001b[K     |██████████████████████          | 1.4 MB 8.2 MB/s eta 0:00:01\r\u001b[K     |██████████████████████          | 1.4 MB 8.2 MB/s eta 0:00:01\r\u001b[K     |██████████████████████▎         | 1.5 MB 8.2 MB/s eta 0:00:01\r\u001b[K     |██████████████████████▍         | 1.5 MB 8.2 MB/s eta 0:00:01\r\u001b[K     |██████████████████████▋         | 1.5 MB 8.2 MB/s eta 0:00:01\r\u001b[K     |██████████████████████▊         | 1.5 MB 8.2 MB/s eta 0:00:01\r\u001b[K     |██████████████████████▉         | 1.5 MB 8.2 MB/s eta 0:00:01\r\u001b[K     |███████████████████████         | 1.5 MB 8.2 MB/s eta 0:00:01\r\u001b[K     |███████████████████████▏        | 1.5 MB 8.2 MB/s eta 0:00:01\r\u001b[K     |███████████████████████▍        | 1.5 MB 8.2 MB/s eta 0:00:01\r\u001b[K     |███████████████████████▌        | 1.5 MB 8.2 MB/s eta 0:00:01\r\u001b[K     |███████████████████████▊        | 1.5 MB 8.2 MB/s eta 0:00:01\r\u001b[K     |███████████████████████▉        | 1.6 MB 8.2 MB/s eta 0:00:01\r\u001b[K     |████████████████████████        | 1.6 MB 8.2 MB/s eta 0:00:01\r\u001b[K     |████████████████████████▏       | 1.6 MB 8.2 MB/s eta 0:00:01\r\u001b[K     |████████████████████████▎       | 1.6 MB 8.2 MB/s eta 0:00:01\r\u001b[K     |████████████████████████▌       | 1.6 MB 8.2 MB/s eta 0:00:01\r\u001b[K     |████████████████████████▋       | 1.6 MB 8.2 MB/s eta 0:00:01\r\u001b[K     |████████████████████████▊       | 1.6 MB 8.2 MB/s eta 0:00:01\r\u001b[K     |█████████████████████████       | 1.6 MB 8.2 MB/s eta 0:00:01\r\u001b[K     |█████████████████████████       | 1.6 MB 8.2 MB/s eta 0:00:01\r\u001b[K     |█████████████████████████▎      | 1.6 MB 8.2 MB/s eta 0:00:01\r\u001b[K     |█████████████████████████▍      | 1.7 MB 8.2 MB/s eta 0:00:01\r\u001b[K     |█████████████████████████▌      | 1.7 MB 8.2 MB/s eta 0:00:01\r\u001b[K     |█████████████████████████▊      | 1.7 MB 8.2 MB/s eta 0:00:01\r\u001b[K     |█████████████████████████▉      | 1.7 MB 8.2 MB/s eta 0:00:01\r\u001b[K     |██████████████████████████      | 1.7 MB 8.2 MB/s eta 0:00:01\r\u001b[K     |██████████████████████████▏     | 1.7 MB 8.2 MB/s eta 0:00:01\r\u001b[K     |██████████████████████████▍     | 1.7 MB 8.2 MB/s eta 0:00:01\r\u001b[K     |██████████████████████████▌     | 1.7 MB 8.2 MB/s eta 0:00:01\r\u001b[K     |██████████████████████████▋     | 1.7 MB 8.2 MB/s eta 0:00:01\r\u001b[K     |██████████████████████████▉     | 1.8 MB 8.2 MB/s eta 0:00:01\r\u001b[K     |███████████████████████████     | 1.8 MB 8.2 MB/s eta 0:00:01\r\u001b[K     |███████████████████████████▏    | 1.8 MB 8.2 MB/s eta 0:00:01\r\u001b[K     |███████████████████████████▎    | 1.8 MB 8.2 MB/s eta 0:00:01\r\u001b[K     |███████████████████████████▍    | 1.8 MB 8.2 MB/s eta 0:00:01\r\u001b[K     |███████████████████████████▋    | 1.8 MB 8.2 MB/s eta 0:00:01\r\u001b[K     |███████████████████████████▊    | 1.8 MB 8.2 MB/s eta 0:00:01\r\u001b[K     |████████████████████████████    | 1.8 MB 8.2 MB/s eta 0:00:01\r\u001b[K     |████████████████████████████    | 1.8 MB 8.2 MB/s eta 0:00:01\r\u001b[K     |████████████████████████████▏   | 1.8 MB 8.2 MB/s eta 0:00:01\r\u001b[K     |████████████████████████████▍   | 1.9 MB 8.2 MB/s eta 0:00:01\r\u001b[K     |████████████████████████████▌   | 1.9 MB 8.2 MB/s eta 0:00:01\r\u001b[K     |████████████████████████████▊   | 1.9 MB 8.2 MB/s eta 0:00:01\r\u001b[K     |████████████████████████████▉   | 1.9 MB 8.2 MB/s eta 0:00:01\r\u001b[K     |█████████████████████████████   | 1.9 MB 8.2 MB/s eta 0:00:01\r\u001b[K     |█████████████████████████████▏  | 1.9 MB 8.2 MB/s eta 0:00:01\r\u001b[K     |█████████████████████████████▎  | 1.9 MB 8.2 MB/s eta 0:00:01\r\u001b[K     |█████████████████████████████▌  | 1.9 MB 8.2 MB/s eta 0:00:01\r\u001b[K     |█████████████████████████████▋  | 1.9 MB 8.2 MB/s eta 0:00:01\r\u001b[K     |█████████████████████████████▉  | 1.9 MB 8.2 MB/s eta 0:00:01\r\u001b[K     |██████████████████████████████  | 2.0 MB 8.2 MB/s eta 0:00:01\r\u001b[K     |██████████████████████████████  | 2.0 MB 8.2 MB/s eta 0:00:01\r\u001b[K     |██████████████████████████████▎ | 2.0 MB 8.2 MB/s eta 0:00:01\r\u001b[K     |██████████████████████████████▍ | 2.0 MB 8.2 MB/s eta 0:00:01\r\u001b[K     |██████████████████████████████▋ | 2.0 MB 8.2 MB/s eta 0:00:01\r\u001b[K     |██████████████████████████████▊ | 2.0 MB 8.2 MB/s eta 0:00:01\r\u001b[K     |██████████████████████████████▉ | 2.0 MB 8.2 MB/s eta 0:00:01\r\u001b[K     |███████████████████████████████ | 2.0 MB 8.2 MB/s eta 0:00:01\r\u001b[K     |███████████████████████████████▏| 2.0 MB 8.2 MB/s eta 0:00:01\r\u001b[K     |███████████████████████████████▍| 2.0 MB 8.2 MB/s eta 0:00:01\r\u001b[K     |███████████████████████████████▌| 2.1 MB 8.2 MB/s eta 0:00:01\r\u001b[K     |███████████████████████████████▊| 2.1 MB 8.2 MB/s eta 0:00:01\r\u001b[K     |███████████████████████████████▉| 2.1 MB 8.2 MB/s eta 0:00:01\r\u001b[K     |████████████████████████████████| 2.1 MB 8.2 MB/s eta 0:00:01\r\u001b[K     |████████████████████████████████| 2.1 MB 8.2 MB/s \n",
            "\u001b[?25hRequirement already satisfied: numpy in /usr/local/lib/python3.7/dist-packages (from mitdeeplearning) (1.21.5)\n",
            "Requirement already satisfied: regex in /usr/local/lib/python3.7/dist-packages (from mitdeeplearning) (2019.12.20)\n",
            "Requirement already satisfied: tqdm in /usr/local/lib/python3.7/dist-packages (from mitdeeplearning) (4.62.3)\n",
            "Requirement already satisfied: gym in /usr/local/lib/python3.7/dist-packages (from mitdeeplearning) (0.17.3)\n",
            "Requirement already satisfied: pyglet<=1.5.0,>=1.4.0 in /usr/local/lib/python3.7/dist-packages (from gym->mitdeeplearning) (1.5.0)\n",
            "Requirement already satisfied: scipy in /usr/local/lib/python3.7/dist-packages (from gym->mitdeeplearning) (1.4.1)\n",
            "Requirement already satisfied: cloudpickle<1.7.0,>=1.2.0 in /usr/local/lib/python3.7/dist-packages (from gym->mitdeeplearning) (1.3.0)\n",
            "Requirement already satisfied: future in /usr/local/lib/python3.7/dist-packages (from pyglet<=1.5.0,>=1.4.0->gym->mitdeeplearning) (0.16.0)\n",
            "Building wheels for collected packages: mitdeeplearning\n",
            "  Building wheel for mitdeeplearning (setup.py) ... \u001b[?25l\u001b[?25hdone\n",
            "  Created wheel for mitdeeplearning: filename=mitdeeplearning-0.2.0-py3-none-any.whl size=2115442 sha256=d9c589b8afaf3e980d1abbee69c4570b808dcc44108d939aa7c37f98dd0a7be3\n",
            "  Stored in directory: /root/.cache/pip/wheels/9a/b9/4f/99b7c8c5c75355550b83e1fcfc02956fb40c35eb01e2262877\n",
            "Successfully built mitdeeplearning\n",
            "Installing collected packages: mitdeeplearning\n",
            "Successfully installed mitdeeplearning-0.2.0\n"
          ]
        }
      ]
    },
    {
      "cell_type": "markdown",
      "metadata": {
        "id": "2QNMcdP4m3Vs"
      },
      "source": [
        "## Fundamentos\n",
        "\n",
        "Um Tensor consiste em arrays multidimensionais de tipo de dados básicos (como string ou um número inteiro)\n",
        "\n",
        "A forma de um Tensor é baseada no número de elementos de cada um dos eixos ou seja seu comprimento, o rank (ou ordem do Tensor) é o número de eixos dos tensores.\n"
      ]
    },
    {
      "cell_type": "code",
      "metadata": {
        "id": "tFxztZQInlAB",
        "colab": {
          "base_uri": "https://localhost:8080/"
        },
        "outputId": "1b52c500-578e-47d0-d232-c13c9a56b071"
      },
      "source": [
        "esporte = tf.constant(\"Futebol\")\n",
        "numero = tf.constant(1.365815)\n",
        "\n",
        "print(esporte)\n",
        "print(numero)\n",
        "\n",
        "print(\"Esporte é um Tensor:{}-d\".format(tf.rank(esporte).numpy()))\n",
        "print(\"Numero é um Tensor: {}-d\".format(tf.rank(numero).numpy()))"
      ],
      "execution_count": null,
      "outputs": [
        {
          "output_type": "stream",
          "name": "stdout",
          "text": [
            "tf.Tensor(b'Futebol', shape=(), dtype=string)\n",
            "tf.Tensor(1.365815, shape=(), dtype=float32)\n",
            "Esporte é um Tensor:0-d\n",
            "Numero é um Tensor: 0-d\n"
          ]
        }
      ]
    },
    {
      "cell_type": "markdown",
      "metadata": {
        "id": "-dljcPUcoJZ6"
      },
      "source": [
        "1-d Tensors:"
      ]
    },
    {
      "cell_type": "code",
      "metadata": {
        "id": "oaHXABe8oPcO",
        "colab": {
          "base_uri": "https://localhost:8080/"
        },
        "outputId": "d316a524-6513-45be-bde5-228abe350c28"
      },
      "source": [
        "esportes = tf.constant([\"Futebol\", \"Tenis\"])\n",
        "numeros = tf.constant([3.1232, 1.122, 2.123])\n",
        "\n",
        "print(esportes)\n",
        "print(numeros)\n",
        "\n",
        "print(\"esportes é um Tensor: {}-d com shape: {}\".format(tf.rank(esportes).numpy(), tf.shape(esportes)))\n",
        "print(\"numeros é um Tensor: {}-d com shape: {}\".format(tf.rank(numeros).numpy(), tf.shape(numeros)))"
      ],
      "execution_count": null,
      "outputs": [
        {
          "output_type": "stream",
          "name": "stdout",
          "text": [
            "tf.Tensor([b'Futebol' b'Tenis'], shape=(2,), dtype=string)\n",
            "tf.Tensor([3.1232 1.122  2.123 ], shape=(3,), dtype=float32)\n",
            "esportes é um Tensor: 1-d com shape: [2]\n",
            "numeros é um Tensor: 1-d com shape: [3]\n"
          ]
        }
      ]
    },
    {
      "cell_type": "markdown",
      "metadata": {
        "id": "gvffwkvtodLP"
      },
      "source": [
        "2-d e 4-d Tensors:"
      ]
    },
    {
      "cell_type": "code",
      "metadata": {
        "id": "tFeBBe1IouS3",
        "colab": {
          "base_uri": "https://localhost:8080/"
        },
        "outputId": "5543d435-95fe-4940-e445-f12254702256"
      },
      "source": [
        "matriz = tf.constant([[1,2],[3,4],[5,6]])\n",
        "\n",
        "assert isinstance(matriz, tf.Tensor), \"Matriz deve ser um Tensor\" #Verifica se matrix é um tensor\n",
        "assert tf.rank(matriz).numpy() == 2 #Verifica dimensão do tensor\n",
        "\n",
        "print(\"Rank da matriz é {}\".format(tf.rank(matriz).numpy()))"
      ],
      "execution_count": null,
      "outputs": [
        {
          "output_type": "stream",
          "name": "stdout",
          "text": [
            "Rank da matriz é 2\n"
          ]
        }
      ]
    },
    {
      "cell_type": "code",
      "metadata": {
        "id": "Zv1fTn_Ya_cz",
        "colab": {
          "base_uri": "https://localhost:8080/"
        },
        "outputId": "6d5fdf51-26a3-4405-d2e6-2caef0aa2518"
      },
      "source": [
        "imagens = tf.zeros([10,2,2,3],tf.int32)\n",
        "\n",
        "assert isinstance(imagens, tf.Tensor), \"Matriz deve ser um Tensor\" #Verifica se matrix é um tensor\n",
        "assert tf.rank(imagens).numpy() == 4, \"Deve ter rank 4\" #Verifica rank\n",
        "assert tf.shape(imagens).numpy().tolist() == [10,2,2,3] #Verifica shape\n",
        "\n",
        "print(\"Rank das imagens é {}\".format(tf.rank(imagens).numpy()))"
      ],
      "execution_count": null,
      "outputs": [
        {
          "output_type": "stream",
          "name": "stdout",
          "text": [
            "Rank das imagens é 4\n"
          ]
        }
      ]
    },
    {
      "cell_type": "markdown",
      "metadata": {
        "id": "wkaCDOGapMyl"
      },
      "source": [
        "Propriedades dos tensores:"
      ]
    },
    {
      "cell_type": "code",
      "metadata": {
        "id": "FhaufyObuLEG",
        "colab": {
          "base_uri": "https://localhost:8080/"
        },
        "outputId": "86510219-74ca-4691-a494-17485cbb7b70"
      },
      "source": [
        "print(\"Tipo:\", matriz.dtype)\n",
        "print(\"Numero de eixos:\", matriz.ndim)\n",
        "print(\"Vetor linha:\", matriz[1])\n",
        "print(\"Vetor Coluna:\", matriz[:,1])\n",
        "print(\"Escalar \", matriz[1, 1].numpy())\n"
      ],
      "execution_count": null,
      "outputs": [
        {
          "output_type": "stream",
          "name": "stdout",
          "text": [
            "Tipo: <dtype: 'int32'>\n",
            "Numero de eixos: 2\n",
            "Vetor linha: tf.Tensor([3 4], shape=(2,), dtype=int32)\n",
            "Vetor Coluna: tf.Tensor([2 4 6], shape=(3,), dtype=int32)\n",
            "Escalar  4\n"
          ]
        }
      ]
    },
    {
      "cell_type": "markdown",
      "metadata": {
        "id": "iD3VO-LZYZ2z"
      },
      "source": [
        "## Grafos\n",
        "\n",
        "São malhas com nós conectados entre si por arestas. Cada nó possui entradas e saídas como também a operação que deve ser feita com as entradas obter a saída desejada. As arestas consistem nos valores que são passados de um nó para outro. \n",
        "\n",
        "<center><img width=\"50%\" src=\"https://raw.githubusercontent.com/joanarepinaldo/mit-deep-learning/main/assets/grafo1.png\"</center>"
      ]
    },
    {
      "cell_type": "code",
      "metadata": {
        "id": "X_YJrZsxYZ2z",
        "colab": {
          "base_uri": "https://localhost:8080/"
        },
        "outputId": "8e94ff01-8009-423a-8449-f762a560281f"
      },
      "source": [
        "# Criando grafos\n",
        "a = tf.constant(15)\n",
        "b = tf.constant(61)\n",
        "\n",
        "# Somando\n",
        "c1 = tf.add(a,b)\n",
        "c2 = a + b \n",
        "print(c1)\n",
        "print(c2)"
      ],
      "execution_count": null,
      "outputs": [
        {
          "output_type": "stream",
          "name": "stdout",
          "text": [
            "tf.Tensor(76, shape=(), dtype=int32)\n",
            "tf.Tensor(76, shape=(), dtype=int32)\n"
          ]
        }
      ]
    },
    {
      "cell_type": "code",
      "metadata": {
        "scrolled": true,
        "id": "PJnfzpWyYZ23",
        "colab": {
          "base_uri": "https://localhost:8080/"
        },
        "outputId": "46e80471-562f-44f9-c307-862974c74107"
      },
      "source": [
        "# Função para operação de grafos\n",
        "def func(a,b):\n",
        "  \n",
        "  c = tf.add(a,b)\n",
        "  d = tf.subtract(b,1)\n",
        "  e = tf.multiply(c, d)\n",
        "  return e\n",
        "a, b = 1.5, 2.5\n",
        "print(func(a,b))"
      ],
      "execution_count": null,
      "outputs": [
        {
          "output_type": "stream",
          "name": "stdout",
          "text": [
            "tf.Tensor(6.0, shape=(), dtype=float32)\n"
          ]
        }
      ]
    },
    {
      "cell_type": "markdown",
      "metadata": {
        "id": "1h4o9Bb0YZ29"
      },
      "source": [
        "## Redes Neurais\n",
        "É possível construir uma rede neural no TensorFlow utilizando [Keras](https://www.tensorflow.org/guide/keras), uma API de alto nível para criar e treinar modelos.\n",
        "\n",
        "Considerando uma rede neural simples de uma cadama definida por: $ y = \\sigma(Wx + b)$, onde $W$ representa uma matriz de pesos, $b$ é um viés, $x$ a entrada, $\\sigma$ a função de ativação e $y$ é a saída:\n",
        "\n",
        "\n",
        "<center><img width=\"50%\" src=\"https://raw.githubusercontent.com/joanarepinaldo/mit-deep-learning/main/assets/A.png\"></center>\n",
        "\n",
        "Os tensores são organizados em camadas,arquitetura das redes neurais. As camadas implementam operações das redes neurais e são usadas para atualizar pesos, calcular perdas e definir a conectividade entre camadas. Definimos a camada para a rede acima:"
      ]
    },
    {
      "cell_type": "code",
      "source": [
        "### Rede neural ###\n",
        "# n_nos_saida: numero de saidas\n",
        "# x: entrada\n",
        "\n",
        "class CamandaDensa(tf.keras.layers.Layer):\n",
        "  def __init__(self, n_nos_saida):\n",
        "    super(CamandaDensa, self).__init__()\n",
        "    self.n_nos_saida = n_nos_saida\n",
        "\n",
        "  def build(self, input_shape):\n",
        "    d = int(input_shape[-1])\n",
        "    # Parametros inicias de peso W e bias b\n",
        "    self.W = self.add_weight(\"peso\", shape=[d, self.n_nos_saida]) \n",
        "    self.b = self.add_weight(\"bias\", shape=[1, self.n_nos_saida]) \n",
        "\n",
        "  def call(self, x):\n",
        "    \n",
        "    z = tf.matmul(x, self.W) + self.b # multiplica matrizes   \n",
        "\n",
        "    y = tf.sigmoid(z) \n",
        "    return y\n",
        "\n",
        "tf.random.set_seed(1)\n",
        "layer = CamandaDensa(3)\n",
        "layer.build((1,2))\n",
        "x_entrada = tf.constant([[1,2.]], shape=(1,2))\n",
        "y = layer.call(x_entrada)\n",
        "\n",
        "# Testando output com mdl \n",
        "print(y.numpy())\n",
        "mdl.lab1.test_custom_dense_layer_output(y)\n"
      ],
      "metadata": {
        "colab": {
          "base_uri": "https://localhost:8080/"
        },
        "id": "6EGV-ZDHP6lO",
        "outputId": "50e70719-c69a-443d-d719-a5546ba30711"
      },
      "execution_count": null,
      "outputs": [
        {
          "output_type": "stream",
          "name": "stdout",
          "text": [
            "[[0.2697859  0.45750412 0.66536945]]\n",
            "[PASS] test_custom_dense_layer_output\n"
          ]
        },
        {
          "output_type": "execute_result",
          "data": {
            "text/plain": [
              "True"
            ]
          },
          "metadata": {},
          "execution_count": 10
        }
      ]
    },
    {
      "cell_type": "code",
      "metadata": {
        "id": "HutbJk-1kHPh",
        "colab": {
          "base_uri": "https://localhost:8080/"
        },
        "outputId": "7831d120-4b6d-40bb-d1fb-6a6b062eacb1"
      },
      "source": [
        "### Rede neural usando Sequential API ###\n",
        "# Importando Keras\n",
        "from tensorflow.keras import Sequential\n",
        "from tensorflow.keras.layers import Dense\n",
        "\n",
        "# Número de saidas\n",
        "n_nos_saida = 3\n",
        "\n",
        "# Modelo\n",
        "modelo = Sequential()\n",
        "\n",
        "# Camada densa é definida pelos parêmtros W e b!\n",
        "camada_densa = Dense(n_nos_saida, \n",
        "                    activation='sigmoid') # activation é a função de ativação\n",
        "\n",
        "# Adicionando camada no modelo\n",
        "modelo.add(camada_densa)\n",
        "\n",
        "# Testando\n",
        "x_entrada = tf.constant([[1,2.]], shape=(1,2))\n",
        "\n",
        "modelo_saida= modelo(x_entrada).numpy()\n",
        "print(modelo_saida)\n"
      ],
      "execution_count": null,
      "outputs": [
        {
          "output_type": "stream",
          "name": "stdout",
          "text": [
            "[[0.5607363 0.6566898 0.1249697]]\n"
          ]
        }
      ]
    },
    {
      "cell_type": "markdown",
      "metadata": {
        "id": "Jt1FgM7qYZ3D"
      },
      "source": [
        "Usamos o modelo Sequential de Keras e uma única camada para definir a rede neural. Agora iremos utilizar a Subclassing :"
      ]
    },
    {
      "cell_type": "code",
      "metadata": {
        "id": "7WXTpmoL6TDz",
        "colab": {
          "base_uri": "https://localhost:8080/"
        },
        "outputId": "9d266aba-c916-4e10-9464-312be996a45f"
      },
      "source": [
        "### Rede neural usando Subclassing ###\n",
        "\n",
        "# Importando Keras\n",
        "from tensorflow.keras import Model\n",
        "from tensorflow.keras.layers import Dense\n",
        "\n",
        "class SubclassModel(tf.keras.Model):\n",
        "  \n",
        "  def __init__(self, n_nos_saida):\n",
        "    super(SubclassModel, self).__init__()\n",
        "    \n",
        "    self.camada_densa = tf.keras.layers.Dense(units=n_nos_saida,\n",
        "                             activation='sigmoid',)\n",
        "\n",
        "  def call(self, entradas):\n",
        "    return self.camada_densa (entradas)\n",
        "\n",
        "modelo = SubclassModel(n_nos_saida)\n",
        "print(modelo.call(x_entrada))"
      ],
      "execution_count": null,
      "outputs": [
        {
          "output_type": "stream",
          "name": "stdout",
          "text": [
            "tf.Tensor([[0.6504887  0.47828162 0.8373661 ]], shape=(1, 3), dtype=float32)\n"
          ]
        }
      ]
    },
    {
      "cell_type": "markdown",
      "metadata": {
        "id": "dQwDhKn8kbO2"
      },
      "source": [
        "## Diferenciação automática\n",
        "\n",
        "A diferenciação automática é útil para implementar algoritmos de aprendizado de máquina, como backpropagation , para treinar redes neurais.Esta permite que o sistema propague gradientes posteriormente.\n",
        "\n",
        "Como exemplo temos a função: $ y = x^2$ , usaremos o GradienteTape para calcular os gradientes."
      ]
    },
    {
      "cell_type": "code",
      "metadata": {
        "id": "tdkqk8pw5yJM",
        "colab": {
          "base_uri": "https://localhost:8080/"
        },
        "outputId": "5ae51b99-eae6-4b20-962d-2f3cc331384a"
      },
      "source": [
        "### Gradiente com GradientTape ###\n",
        "\n",
        "# y = x^2\n",
        "x = tf.Variable(3.0)\n",
        "\n",
        "# Inicializando\n",
        "with tf.GradientTape() as tape:\n",
        "    y = x * x # função\n",
        "# Gradiente - derivada de y\n",
        "dy_dx = tape.gradient(y, x)\n",
        "\n",
        "assert dy_dx.numpy() == 6.0 \n",
        "print(dy_dx.numpy())"
      ],
      "execution_count": null,
      "outputs": [
        {
          "output_type": "stream",
          "name": "stdout",
          "text": [
            "6.0\n"
          ]
        }
      ]
    },
    {
      "cell_type": "markdown",
      "metadata": {
        "id": "JhU5metS5xF3"
      },
      "source": [
        "No treinamento de redes neurais, usamos o gradiente descendente estocástico (SGD), o qual consiste em encontrar, de forma iterativa, os valores dos parâmetros que minimizam determinada função de interesse.\n",
        "\n"
      ]
    },
    {
      "cell_type": "code",
      "metadata": {
        "attributes": {
          "classes": [
            "py"
          ],
          "id": ""
        },
        "id": "7g1yWiSXqEf-",
        "colab": {
          "base_uri": "https://localhost:8080/",
          "height": 314
        },
        "outputId": "10485ea2-6027-4f6b-8bb9-4a42ca44e68e"
      },
      "source": [
        "###  SGD ###\n",
        "\n",
        "# Inicializando x com um valor aleatório\n",
        "x = tf.Variable([tf.random.normal([1])])\n",
        "print(\"Inicializando x={}\".format(x.numpy()))\n",
        "\n",
        "taxa_aprendizado = 1e-2 # taxa de aprendizado\n",
        "historico = []\n",
        "# Valor desejado\n",
        "x_f = 4\n",
        "\n",
        "# Em cada iteração será computado a perda, a derivada da perda e a performace.\n",
        "for i in range(500):\n",
        "  with tf.GradientTape() as tape:\n",
        "    \n",
        "    perda = (x - x_f)**2 #função\n",
        "\n",
        "  \n",
        "  grad = tape.gradient(perda, x) # derivada\n",
        "  novo_x = x - taxa_aprendizado*grad # atualiza\n",
        "  x.assign(novo_x) \n",
        "  historico.append(x.numpy()[0])\n",
        "\n",
        "# Plot\n",
        "plt.plot(historico)\n",
        "plt.plot([0, 500],[x_f,x_f])\n",
        "plt.legend(('Predição', 'Valor'))\n",
        "plt.xlabel('Iteração')\n",
        "plt.ylabel('x')"
      ],
      "execution_count": null,
      "outputs": [
        {
          "output_type": "stream",
          "name": "stdout",
          "text": [
            "Inicializando x=[[-0.35975078]]\n"
          ]
        },
        {
          "output_type": "execute_result",
          "data": {
            "text/plain": [
              "Text(0, 0.5, 'x')"
            ]
          },
          "metadata": {},
          "execution_count": 19
        },
        {
          "output_type": "display_data",
          "data": {
            "image/png": "[encoded data removed]",
            "text/plain": [
              "<Figure size 432x288 with 1 Axes>"
            ]
          },
          "metadata": {
            "needs_background": "light"
          }
        }
      ]
    }
  ]
}